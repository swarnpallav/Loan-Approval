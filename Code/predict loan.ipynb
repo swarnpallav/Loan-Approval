{
 "cells": [
  {
   "cell_type": "code",
   "execution_count": 1,
   "metadata": {},
   "outputs": [
    {
     "data": {
      "text/html": [
       "<div>\n",
       "<style scoped>\n",
       "    .dataframe tbody tr th:only-of-type {\n",
       "        vertical-align: middle;\n",
       "    }\n",
       "\n",
       "    .dataframe tbody tr th {\n",
       "        vertical-align: top;\n",
       "    }\n",
       "\n",
       "    .dataframe thead th {\n",
       "        text-align: right;\n",
       "    }\n",
       "</style>\n",
       "<table border=\"1\" class=\"dataframe\">\n",
       "  <thead>\n",
       "    <tr style=\"text-align: right;\">\n",
       "      <th></th>\n",
       "      <th>Loanapp_ID</th>\n",
       "      <th>Sex</th>\n",
       "      <th>Marital_Status</th>\n",
       "      <th>first_name</th>\n",
       "      <th>last_name</th>\n",
       "      <th>email</th>\n",
       "      <th>address</th>\n",
       "      <th>Dependents</th>\n",
       "      <th>Qual_var</th>\n",
       "      <th>SE</th>\n",
       "      <th>App_Income_1</th>\n",
       "      <th>App_Income_2</th>\n",
       "      <th>CPL_Amount</th>\n",
       "      <th>CPL_Term</th>\n",
       "      <th>Credit_His</th>\n",
       "      <th>Prop_Area</th>\n",
       "      <th>INT_ID</th>\n",
       "      <th>Prev_ID</th>\n",
       "      <th>AGT_ID</th>\n",
       "      <th>CPL_Status</th>\n",
       "    </tr>\n",
       "  </thead>\n",
       "  <tbody>\n",
       "    <tr>\n",
       "      <th>0</th>\n",
       "      <td>CPL001002</td>\n",
       "      <td>M</td>\n",
       "      <td>N</td>\n",
       "      <td>Austin</td>\n",
       "      <td>Pennycook</td>\n",
       "      <td>apennycook1@mac.com</td>\n",
       "      <td>007 Miller Road</td>\n",
       "      <td>0</td>\n",
       "      <td>Grad</td>\n",
       "      <td>N</td>\n",
       "      <td>7018.8</td>\n",
       "      <td>0.0</td>\n",
       "      <td>NaN</td>\n",
       "      <td>360.0</td>\n",
       "      <td>1.0</td>\n",
       "      <td>Urban</td>\n",
       "      <td>9694176212</td>\n",
       "      <td>92-247-0058</td>\n",
       "      <td>Mozilla/5.0 (Windows; U; Windows NT 5.1; zh-TW...</td>\n",
       "      <td>Y</td>\n",
       "    </tr>\n",
       "    <tr>\n",
       "      <th>1</th>\n",
       "      <td>CPL001003</td>\n",
       "      <td>M</td>\n",
       "      <td>Y</td>\n",
       "      <td>Mareah</td>\n",
       "      <td>Tomanek</td>\n",
       "      <td>mtomanek2@bloomberg.com</td>\n",
       "      <td>145 Charing Cross Junction</td>\n",
       "      <td>1</td>\n",
       "      <td>Grad</td>\n",
       "      <td>N</td>\n",
       "      <td>5499.6</td>\n",
       "      <td>1809.6</td>\n",
       "      <td>153.6</td>\n",
       "      <td>360.0</td>\n",
       "      <td>1.0</td>\n",
       "      <td>Rural</td>\n",
       "      <td>152387684</td>\n",
       "      <td>36-236-3028</td>\n",
       "      <td>Mozilla/5.0 (Windows NT 5.1; rv:21.0) Gecko/20...</td>\n",
       "      <td>N</td>\n",
       "    </tr>\n",
       "    <tr>\n",
       "      <th>2</th>\n",
       "      <td>CPL001005</td>\n",
       "      <td>M</td>\n",
       "      <td>Y</td>\n",
       "      <td>Myrna</td>\n",
       "      <td>Rosenthaler</td>\n",
       "      <td>mrosenthaler3@dmoz.org</td>\n",
       "      <td>268 Algoma Hill</td>\n",
       "      <td>0</td>\n",
       "      <td>Grad</td>\n",
       "      <td>Y</td>\n",
       "      <td>3600.0</td>\n",
       "      <td>0.0</td>\n",
       "      <td>79.2</td>\n",
       "      <td>360.0</td>\n",
       "      <td>1.0</td>\n",
       "      <td>Urban</td>\n",
       "      <td>6510396556</td>\n",
       "      <td>34-339-0917</td>\n",
       "      <td>Mozilla/5.0 (Windows; U; Windows NT 6.1; cs-CZ...</td>\n",
       "      <td>Y</td>\n",
       "    </tr>\n",
       "    <tr>\n",
       "      <th>3</th>\n",
       "      <td>CPL001006</td>\n",
       "      <td>M</td>\n",
       "      <td>Y</td>\n",
       "      <td>Danyette</td>\n",
       "      <td>Stempe</td>\n",
       "      <td>dstempe4@tumblr.com</td>\n",
       "      <td>571 Stone Corner Park</td>\n",
       "      <td>0</td>\n",
       "      <td>Non Grad</td>\n",
       "      <td>N</td>\n",
       "      <td>3099.6</td>\n",
       "      <td>2829.6</td>\n",
       "      <td>144.0</td>\n",
       "      <td>360.0</td>\n",
       "      <td>1.0</td>\n",
       "      <td>Urban</td>\n",
       "      <td>7141853006</td>\n",
       "      <td>94-098-8902</td>\n",
       "      <td>Mozilla/5.0 (iPhone; U; CPU iPhone OS 4_2_1 li...</td>\n",
       "      <td>Y</td>\n",
       "    </tr>\n",
       "    <tr>\n",
       "      <th>4</th>\n",
       "      <td>CPL001008</td>\n",
       "      <td>M</td>\n",
       "      <td>N</td>\n",
       "      <td>Patten</td>\n",
       "      <td>McCathy</td>\n",
       "      <td>pmccathy5@ted.com</td>\n",
       "      <td>118 Moulton Drive</td>\n",
       "      <td>0</td>\n",
       "      <td>Grad</td>\n",
       "      <td>N</td>\n",
       "      <td>7200.0</td>\n",
       "      <td>0.0</td>\n",
       "      <td>169.2</td>\n",
       "      <td>360.0</td>\n",
       "      <td>1.0</td>\n",
       "      <td>Urban</td>\n",
       "      <td>23293411</td>\n",
       "      <td>38-247-1410</td>\n",
       "      <td>Mozilla/5.0 (Windows NT 6.0; WOW64) AppleWebKi...</td>\n",
       "      <td>Y</td>\n",
       "    </tr>\n",
       "  </tbody>\n",
       "</table>\n",
       "</div>"
      ],
      "text/plain": [
       "  Loanapp_ID Sex Marital_Status first_name    last_name  \\\n",
       "0  CPL001002   M              N     Austin    Pennycook   \n",
       "1  CPL001003   M              Y     Mareah      Tomanek   \n",
       "2  CPL001005   M              Y      Myrna  Rosenthaler   \n",
       "3  CPL001006   M              Y   Danyette       Stempe   \n",
       "4  CPL001008   M              N     Patten      McCathy   \n",
       "\n",
       "                     email                     address Dependents  Qual_var  \\\n",
       "0      apennycook1@mac.com             007 Miller Road          0      Grad   \n",
       "1  mtomanek2@bloomberg.com  145 Charing Cross Junction          1      Grad   \n",
       "2   mrosenthaler3@dmoz.org             268 Algoma Hill          0      Grad   \n",
       "3      dstempe4@tumblr.com       571 Stone Corner Park          0  Non Grad   \n",
       "4        pmccathy5@ted.com           118 Moulton Drive          0      Grad   \n",
       "\n",
       "  SE  App_Income_1  App_Income_2  CPL_Amount  CPL_Term  Credit_His Prop_Area  \\\n",
       "0  N        7018.8           0.0         NaN     360.0         1.0     Urban   \n",
       "1  N        5499.6        1809.6       153.6     360.0         1.0     Rural   \n",
       "2  Y        3600.0           0.0        79.2     360.0         1.0     Urban   \n",
       "3  N        3099.6        2829.6       144.0     360.0         1.0     Urban   \n",
       "4  N        7200.0           0.0       169.2     360.0         1.0     Urban   \n",
       "\n",
       "       INT_ID      Prev_ID                                             AGT_ID  \\\n",
       "0  9694176212  92-247-0058  Mozilla/5.0 (Windows; U; Windows NT 5.1; zh-TW...   \n",
       "1   152387684  36-236-3028  Mozilla/5.0 (Windows NT 5.1; rv:21.0) Gecko/20...   \n",
       "2  6510396556  34-339-0917  Mozilla/5.0 (Windows; U; Windows NT 6.1; cs-CZ...   \n",
       "3  7141853006  94-098-8902  Mozilla/5.0 (iPhone; U; CPU iPhone OS 4_2_1 li...   \n",
       "4    23293411  38-247-1410  Mozilla/5.0 (Windows NT 6.0; WOW64) AppleWebKi...   \n",
       "\n",
       "  CPL_Status  \n",
       "0          Y  \n",
       "1          N  \n",
       "2          Y  \n",
       "3          Y  \n",
       "4          Y  "
      ]
     },
     "execution_count": 1,
     "metadata": {},
     "output_type": "execute_result"
    }
   ],
   "source": [
    "#loading dataset\n",
    "import pandas as pd\n",
    "dataset=pd.read_csv(r'project4.csv')\n",
    "dataset.head()"
   ]
  },
  {
   "cell_type": "code",
   "execution_count": 2,
   "metadata": {},
   "outputs": [
    {
     "data": {
      "text/plain": [
       "Loanapp_ID         object\n",
       "Sex                object\n",
       "Marital_Status     object\n",
       "first_name         object\n",
       "last_name          object\n",
       "email              object\n",
       "address            object\n",
       "Dependents         object\n",
       "Qual_var           object\n",
       "SE                 object\n",
       "App_Income_1      float64\n",
       "App_Income_2      float64\n",
       "CPL_Amount        float64\n",
       "CPL_Term          float64\n",
       "Credit_His        float64\n",
       "Prop_Area          object\n",
       "INT_ID              int64\n",
       "Prev_ID            object\n",
       "AGT_ID             object\n",
       "CPL_Status         object\n",
       "dtype: object"
      ]
     },
     "execution_count": 2,
     "metadata": {},
     "output_type": "execute_result"
    }
   ],
   "source": [
    "dataset_original=dataset.copy()\n",
    "dataset.dtypes"
   ]
  },
  {
   "cell_type": "code",
   "execution_count": 3,
   "metadata": {},
   "outputs": [
    {
     "data": {
      "text/plain": [
       "(614, 20)"
      ]
     },
     "execution_count": 3,
     "metadata": {},
     "output_type": "execute_result"
    }
   ],
   "source": [
    "dataset.shape"
   ]
  },
  {
   "cell_type": "code",
   "execution_count": 4,
   "metadata": {},
   "outputs": [
    {
     "name": "stdout",
     "output_type": "stream",
     "text": [
      "Loanapp_ID         0\n",
      "Sex               13\n",
      "Marital_Status     3\n",
      "first_name         0\n",
      "last_name          0\n",
      "email              0\n",
      "address            0\n",
      "Dependents        15\n",
      "Qual_var           0\n",
      "SE                32\n",
      "App_Income_1       0\n",
      "App_Income_2       0\n",
      "CPL_Amount         2\n",
      "CPL_Term          14\n",
      "Credit_His        50\n",
      "Prop_Area          0\n",
      "INT_ID             0\n",
      "Prev_ID            0\n",
      "AGT_ID             0\n",
      "CPL_Status         0\n",
      "dtype: int64\n"
     ]
    }
   ],
   "source": [
    "print(dataset.isnull().sum())"
   ]
  },
  {
   "cell_type": "code",
   "execution_count": 5,
   "metadata": {},
   "outputs": [
    {
     "name": "stdout",
     "output_type": "stream",
     "text": [
      "M    489\n",
      "F    112\n",
      "Name: Sex, dtype: int64\n",
      "M    502\n",
      "F    112\n",
      "Name: Sex, dtype: int64\n"
     ]
    }
   ],
   "source": [
    "#handling missing values in 'Sex' column\n",
    "\n",
    "print(dataset['Sex'].value_counts())\n",
    "\n",
    "#replacing missing values with 'M' (majority)\n",
    "dataset['Sex'].fillna('M',inplace=True)\n",
    "print(dataset['Sex'].value_counts())"
   ]
  },
  {
   "cell_type": "code",
   "execution_count": 6,
   "metadata": {},
   "outputs": [
    {
     "name": "stdout",
     "output_type": "stream",
     "text": [
      "Y    398\n",
      "N    213\n",
      "Name: Marital_Status, dtype: int64\n",
      "Y    401\n",
      "N    213\n",
      "Name: Marital_Status, dtype: int64\n"
     ]
    }
   ],
   "source": [
    "#handling missing values in 'Marital_Status' column\n",
    "\n",
    "print(dataset['Marital_Status'].value_counts())\n",
    "\n",
    "#replacing missing values in 'Y' (majority)\n",
    "dataset['Marital_Status'].fillna('Y',inplace=True)\n",
    "print(dataset['Marital_Status'].value_counts())"
   ]
  },
  {
   "cell_type": "code",
   "execution_count": 7,
   "metadata": {},
   "outputs": [
    {
     "name": "stdout",
     "output_type": "stream",
     "text": [
      "0     345\n",
      "1     102\n",
      "2     101\n",
      "3+     51\n",
      "Name: Dependents, dtype: int64\n",
      "0     360\n",
      "1     102\n",
      "2     101\n",
      "3+     51\n",
      "Name: Dependents, dtype: int64\n"
     ]
    }
   ],
   "source": [
    "#handling missing values in 'Dependents' column\n",
    "\n",
    "print(dataset['Dependents'].value_counts())\n",
    "\n",
    "#replacing missing values with '0' (majority)\n",
    "dataset['Dependents'].fillna('0',inplace=True)\n",
    "print(dataset['Dependents'].value_counts())"
   ]
  },
  {
   "cell_type": "code",
   "execution_count": 8,
   "metadata": {},
   "outputs": [
    {
     "name": "stdout",
     "output_type": "stream",
     "text": [
      "N    500\n",
      "Y     82\n",
      "Name: SE, dtype: int64\n",
      "N    532\n",
      "Y     82\n",
      "Name: SE, dtype: int64\n"
     ]
    }
   ],
   "source": [
    "#handling missing values in 'SE' column\n",
    "print(dataset['SE'].value_counts())\n",
    "\n",
    "#replacing missing values with 'N'\n",
    "dataset['SE'].fillna('N',inplace=True)\n",
    "print(dataset['SE'].value_counts())"
   ]
  },
  {
   "cell_type": "code",
   "execution_count": 9,
   "metadata": {},
   "outputs": [
    {
     "name": "stdout",
     "output_type": "stream",
     "text": [
      "144.0    20\n",
      "132.0    17\n",
      "120.0    15\n",
      "192.0    13\n",
      "224.4    12\n",
      "         ..\n",
      "56.4      1\n",
      "588.0     1\n",
      "196.8     1\n",
      "780.0     1\n",
      "273.6     1\n",
      "Name: CPL_Amount, Length: 219, dtype: int64\n",
      "144.0    20\n",
      "132.0    17\n",
      "120.0    15\n",
      "192.0    13\n",
      "153.6    13\n",
      "         ..\n",
      "56.4      1\n",
      "588.0     1\n",
      "196.8     1\n",
      "780.0     1\n",
      "273.6     1\n",
      "Name: CPL_Amount, Length: 219, dtype: int64\n"
     ]
    }
   ],
   "source": [
    "#handling missing values in 'CPL_Amount'\n",
    "print(dataset['CPL_Amount'].value_counts())\n",
    "median = dataset['CPL_Amount'].median()\n",
    "\n",
    "#replacing missing values with median\n",
    "dataset['CPL_Amount'].fillna(median, inplace=True)\n",
    "print(dataset['CPL_Amount'].value_counts())"
   ]
  },
  {
   "cell_type": "code",
   "execution_count": 10,
   "metadata": {},
   "outputs": [
    {
     "name": "stdout",
     "output_type": "stream",
     "text": [
      "360.0    512\n",
      "180.0     44\n",
      "480.0     15\n",
      "300.0     13\n",
      "84.0       4\n",
      "240.0      4\n",
      "120.0      3\n",
      "36.0       2\n",
      "60.0       2\n",
      "12.0       1\n",
      "Name: CPL_Term, dtype: int64\n",
      "360.0    526\n",
      "180.0     44\n",
      "480.0     15\n",
      "300.0     13\n",
      "84.0       4\n",
      "240.0      4\n",
      "120.0      3\n",
      "36.0       2\n",
      "60.0       2\n",
      "12.0       1\n",
      "Name: CPL_Term, dtype: int64\n"
     ]
    }
   ],
   "source": [
    "#handling missing values in 'CPL_Term'\n",
    "print(dataset['CPL_Term'].value_counts())\n",
    "median = dataset['CPL_Term'].median()\n",
    "\n",
    "#replacing missing values with median\n",
    "dataset['CPL_Term'].fillna(median, inplace=True)\n",
    "print(dataset['CPL_Term'].value_counts())"
   ]
  },
  {
   "cell_type": "code",
   "execution_count": 11,
   "metadata": {},
   "outputs": [
    {
     "name": "stdout",
     "output_type": "stream",
     "text": [
      "1.0    475\n",
      "0.0     89\n",
      "Name: Credit_His, dtype: int64\n",
      "1.0    525\n",
      "0.0     89\n",
      "Name: Credit_His, dtype: int64\n"
     ]
    }
   ],
   "source": [
    "#handling missing values in 'Credit_His'\n",
    "print(dataset['Credit_His'].value_counts())\n",
    "median = dataset['Credit_His'].median()\n",
    "\n",
    "#replacing missing values with median\n",
    "dataset['Credit_His'].fillna(median, inplace=True)\n",
    "print(dataset['Credit_His'].value_counts())"
   ]
  },
  {
   "cell_type": "code",
   "execution_count": 12,
   "metadata": {},
   "outputs": [
    {
     "name": "stdout",
     "output_type": "stream",
     "text": [
      "Loanapp_ID        0\n",
      "Sex               0\n",
      "Marital_Status    0\n",
      "first_name        0\n",
      "last_name         0\n",
      "email             0\n",
      "address           0\n",
      "Dependents        0\n",
      "Qual_var          0\n",
      "SE                0\n",
      "App_Income_1      0\n",
      "App_Income_2      0\n",
      "CPL_Amount        0\n",
      "CPL_Term          0\n",
      "Credit_His        0\n",
      "Prop_Area         0\n",
      "INT_ID            0\n",
      "Prev_ID           0\n",
      "AGT_ID            0\n",
      "CPL_Status        0\n",
      "dtype: int64\n"
     ]
    }
   ],
   "source": [
    "print(dataset.isnull().sum())"
   ]
  },
  {
   "cell_type": "code",
   "execution_count": 13,
   "metadata": {},
   "outputs": [
    {
     "data": {
      "image/png": "[encoded data removed]",
      "text/plain": [
       "<Figure size 720x360 with 1 Axes>"
      ]
     },
     "metadata": {
      "needs_background": "light"
     },
     "output_type": "display_data"
    },
    {
     "data": {
      "image/png": "[encoded data removed]",
      "text/plain": [
       "<Figure size 432x288 with 1 Axes>"
      ]
     },
     "metadata": {
      "needs_background": "light"
     },
     "output_type": "display_data"
    },
    {
     "data": {
      "image/png": "[encoded data removed]",
      "text/plain": [
       "<Figure size 432x288 with 1 Axes>"
      ]
     },
     "metadata": {
      "needs_background": "light"
     },
     "output_type": "display_data"
    },
    {
     "data": {
      "image/png": "[encoded data removed]",
      "text/plain": [
       "<Figure size 432x288 with 1 Axes>"
      ]
     },
     "metadata": {
      "needs_background": "light"
     },
     "output_type": "display_data"
    },
    {
     "data": {
      "image/png": "[encoded data removed]",
      "text/plain": [
       "<Figure size 432x288 with 1 Axes>"
      ]
     },
     "metadata": {
      "needs_background": "light"
     },
     "output_type": "display_data"
    },
    {
     "data": {
      "image/png": "[encoded data removed]",
      "text/plain": [
       "<Figure size 432x288 with 1 Axes>"
      ]
     },
     "metadata": {
      "needs_background": "light"
     },
     "output_type": "display_data"
    }
   ],
   "source": [
    "#visualizing values of different attributes by plotting graph\n",
    "from matplotlib import pyplot as plt\n",
    "%matplotlib inline\n",
    "\n",
    "dataset['Sex'].value_counts(normalize=True).plot.bar(figsize=(10,5), title='Sex')\n",
    "plt.show()\n",
    "dataset['Marital_Status'].value_counts(normalize=True).plot.bar(title='Marital_Status')\n",
    "plt.show()\n",
    "dataset['Dependents'].value_counts(normalize=True).plot.bar(title='Dependents')\n",
    "plt.show()\n",
    "dataset['Qual_var'].value_counts(normalize=True).plot.bar(title='Qual_var')\n",
    "plt.show()\n",
    "dataset['Prop_Area'].value_counts(normalize=True).plot.bar(title='Prop_Area')\n",
    "plt.show()\n",
    "dataset['SE'].value_counts(normalize=True).plot.bar(title='SE')\n",
    "plt.show()\n"
   ]
  },
  {
   "cell_type": "code",
   "execution_count": 14,
   "metadata": {},
   "outputs": [
    {
     "data": {
      "image/png": "[encoded data removed]",
      "text/plain": [
       "<Figure size 432x288 with 1 Axes>"
      ]
     },
     "metadata": {
      "needs_background": "light"
     },
     "output_type": "display_data"
    },
    {
     "data": {
      "image/png": "[encoded data removed]",
      "text/plain": [
       "<Figure size 720x360 with 1 Axes>"
      ]
     },
     "metadata": {
      "needs_background": "light"
     },
     "output_type": "display_data"
    }
   ],
   "source": [
    "import seaborn as sns\n",
    "\n",
    "sns.distplot(dataset['App_Income_1'])\n",
    "plt.show()\n",
    "dataset['App_Income_2'].plot.box(figsize=(10,5))\n",
    "plt.show()"
   ]
  },
  {
   "cell_type": "code",
   "execution_count": 15,
   "metadata": {},
   "outputs": [
    {
     "data": {
      "image/png": "[encoded data removed]",
      "text/plain": [
       "<Figure size 360x360 with 1 Axes>"
      ]
     },
     "metadata": {
      "needs_background": "light"
     },
     "output_type": "display_data"
    }
   ],
   "source": [
    "Sex=pd.crosstab(dataset['Sex'],dataset['CPL_Status'])\n",
    "Sex.div(Sex.sum(1).astype(float), axis=0).plot(kind=\"bar\",stacked=True,figsize=(5,5))\n",
    "plt.show()"
   ]
  },
  {
   "cell_type": "code",
   "execution_count": 16,
   "metadata": {},
   "outputs": [
    {
     "data": {
      "image/png": "[encoded data removed]",
      "text/plain": [
       "<Figure size 360x360 with 1 Axes>"
      ]
     },
     "metadata": {
      "needs_background": "light"
     },
     "output_type": "display_data"
    }
   ],
   "source": [
    "Marital_Status=pd.crosstab(dataset['Marital_Status'],dataset['CPL_Status'])\n",
    "Marital_Status.div(Marital_Status.sum(1).astype(float), axis=0).plot(kind=\"bar\",stacked=True,figsize=(5,5))\n",
    "plt.show()"
   ]
  },
  {
   "cell_type": "code",
   "execution_count": 17,
   "metadata": {},
   "outputs": [
    {
     "data": {
      "image/png": "[encoded data removed]",
      "text/plain": [
       "<Figure size 360x360 with 1 Axes>"
      ]
     },
     "metadata": {
      "needs_background": "light"
     },
     "output_type": "display_data"
    }
   ],
   "source": [
    "Dependents=pd.crosstab(dataset['Dependents'],dataset['CPL_Status'])\n",
    "Dependents.div(Dependents.sum(1).astype(float), axis=0).plot(kind=\"bar\",stacked=True,figsize=(5,5))\n",
    "plt.show()"
   ]
  },
  {
   "cell_type": "code",
   "execution_count": 18,
   "metadata": {},
   "outputs": [
    {
     "data": {
      "image/png": "[encoded data removed]",
      "text/plain": [
       "<Figure size 360x360 with 1 Axes>"
      ]
     },
     "metadata": {
      "needs_background": "light"
     },
     "output_type": "display_data"
    }
   ],
   "source": [
    "Qual_var=pd.crosstab(dataset['Qual_var'],dataset['CPL_Status'])\n",
    "Qual_var.div(Qual_var.sum(1).astype(float), axis=0).plot(kind=\"bar\",stacked=True,figsize=(5,5))\n",
    "plt.show()"
   ]
  },
  {
   "cell_type": "code",
   "execution_count": 19,
   "metadata": {},
   "outputs": [
    {
     "data": {
      "image/png": "[encoded data removed]",
      "text/plain": [
       "<Figure size 360x360 with 1 Axes>"
      ]
     },
     "metadata": {
      "needs_background": "light"
     },
     "output_type": "display_data"
    }
   ],
   "source": [
    "Prop_Area=pd.crosstab(dataset['Prop_Area'],dataset['CPL_Status'])\n",
    "Prop_Area.div(Prop_Area.sum(1).astype(float), axis=0).plot(kind=\"bar\",stacked=True,figsize=(5,5))\n",
    "plt.show()"
   ]
  },
  {
   "cell_type": "code",
   "execution_count": 20,
   "metadata": {},
   "outputs": [
    {
     "data": {
      "image/png": "[encoded data removed]",
      "text/plain": [
       "<Figure size 360x360 with 1 Axes>"
      ]
     },
     "metadata": {
      "needs_background": "light"
     },
     "output_type": "display_data"
    }
   ],
   "source": [
    "SE=pd.crosstab(dataset['SE'],dataset['CPL_Status'])\n",
    "SE.div(SE.sum(1).astype(float), axis=0).plot(kind=\"bar\",stacked=True,figsize=(5,5))\n",
    "plt.show()"
   ]
  },
  {
   "cell_type": "code",
   "execution_count": 21,
   "metadata": {},
   "outputs": [
    {
     "data": {
      "text/plain": [
       "<matplotlib.axes._subplots.AxesSubplot at 0x22d7ea23dc8>"
      ]
     },
     "execution_count": 21,
     "metadata": {},
     "output_type": "execute_result"
    },
    {
     "data": {
      "image/png": "[encoded data removed]",
      "text/plain": [
       "<Figure size 648x432 with 2 Axes>"
      ]
     },
     "metadata": {
      "needs_background": "light"
     },
     "output_type": "display_data"
    }
   ],
   "source": [
    "matrix = dataset.corr()\n",
    "f, ax = plt.subplots(figsize=(9,6))\n",
    "sns.heatmap(matrix,vmax=.8,square=True,cmap=\"terrain\", annot = True)"
   ]
  },
  {
   "cell_type": "code",
   "execution_count": 22,
   "metadata": {},
   "outputs": [],
   "source": [
    "from sklearn.model_selection import train_test_split\n",
    "\n",
    "y = dataset['CPL_Status']\n",
    "X = dataset.drop(['Loanapp_ID','first_name','last_name','address'],axis=1)\n",
    "X = pd.get_dummies(X)\n",
    "X_train,X_test,y_train,y_test=train_test_split(X,y,test_size=0.30)\n"
   ]
  },
  {
   "cell_type": "code",
   "execution_count": 23,
   "metadata": {},
   "outputs": [
    {
     "data": {
      "text/plain": [
       "0.7135135135135136"
      ]
     },
     "execution_count": 23,
     "metadata": {},
     "output_type": "execute_result"
    }
   ],
   "source": [
    "from sklearn.linear_model import LogisticRegression\n",
    "from sklearn.metrics import accuracy_score\n",
    "\n",
    "model = LogisticRegression()\n",
    "model.fit(X_train, y_train)\n",
    "LogisticRegression()\n",
    "pred_cv = model.predict(X_test)\n",
    "accuracy_score(y_test,pred_cv)"
   ]
  },
  {
   "cell_type": "code",
   "execution_count": 24,
   "metadata": {},
   "outputs": [
    {
     "name": "stderr",
     "output_type": "stream",
     "text": [
      "C:\\Users\\user\\anaconda3\\lib\\site-packages\\sklearn\\model_selection\\_split.py:296: FutureWarning: Setting a random_state has no effect since shuffle is False. This will raise an error in 0.24. You should leave random_state to its default (None), or set shuffle=True.\n",
      "  FutureWarning\n"
     ]
    },
    {
     "name": "stdout",
     "output_type": "stream",
     "text": [
      "\n",
      "1 of kfold 15 \n",
      "accuracy_score 0.7073170731707317\n",
      "\n",
      "2 of kfold 15 \n",
      "accuracy_score 0.7073170731707317\n",
      "\n",
      "3 of kfold 15 \n",
      "accuracy_score 0.6829268292682927\n",
      "\n",
      "4 of kfold 15 \n",
      "accuracy_score 0.6829268292682927\n",
      "\n",
      "5 of kfold 15 \n",
      "accuracy_score 0.6829268292682927\n",
      "\n",
      "6 of kfold 15 \n",
      "accuracy_score 0.6829268292682927\n",
      "\n",
      "7 of kfold 15 \n",
      "accuracy_score 0.6829268292682927\n",
      "\n",
      "8 of kfold 15 \n",
      "accuracy_score 0.6829268292682927\n",
      "\n",
      "9 of kfold 15 \n",
      "accuracy_score 0.6829268292682927\n",
      "\n",
      "10 of kfold 15 \n",
      "accuracy_score 0.6829268292682927\n",
      "\n",
      "11 of kfold 15 \n",
      "accuracy_score 0.6829268292682927\n",
      "\n",
      "12 of kfold 15 \n",
      "accuracy_score 0.6829268292682927\n",
      "\n",
      "13 of kfold 15 \n",
      "accuracy_score 0.6829268292682927\n",
      "\n",
      "14 of kfold 15 \n",
      "accuracy_score 0.6829268292682927\n",
      "\n",
      "15 of kfold 15 \n",
      "accuracy_score 0.7\n",
      "\n",
      " Mean Validation Accuracy 0.6873170731707317\n"
     ]
    }
   ],
   "source": [
    "from sklearn.model_selection import StratifiedKFold\n",
    "i=1\n",
    "mean = 0\n",
    "kf = StratifiedKFold(n_splits=15,random_state=1)\n",
    "for train_index,test_index in kf.split(X,y):\n",
    " print ('\\n{} of kfold {} '.format(i,kf.n_splits))\n",
    " xtr,xvl = X.loc[train_index],X.loc[test_index]\n",
    " ytr,yvl = y[train_index],y[test_index]\n",
    " model = LogisticRegression(random_state=1)\n",
    " model.fit(xtr,ytr)\n",
    " pred_test=model.predict(xvl)\n",
    " score=accuracy_score(yvl,pred_test)\n",
    " mean += score\n",
    " print ('accuracy_score',score)\n",
    " i+=1\n",
    " pred_test = model.predict(X_test)\n",
    " pred = model.predict_proba(xvl)[:,1]\n",
    "print ('\\n Mean Validation Accuracy',mean/(i-1))\n",
    "\n"
   ]
  },
  {
   "cell_type": "code",
   "execution_count": 25,
   "metadata": {},
   "outputs": [
    {
     "name": "stdout",
     "output_type": "stream",
     "text": [
      "\n",
      "1 of kfold 15 \n",
      "accuracy_score 1.0\n",
      "\n",
      "2 of kfold 15 \n",
      "accuracy_score 1.0\n",
      "\n",
      "3 of kfold 15 \n",
      "accuracy_score 1.0\n",
      "\n",
      "4 of kfold 15 \n",
      "accuracy_score 1.0\n",
      "\n",
      "5 of kfold 15 \n",
      "accuracy_score 1.0\n",
      "\n",
      "6 of kfold 15 \n",
      "accuracy_score 1.0\n",
      "\n",
      "7 of kfold 15 \n",
      "accuracy_score 1.0\n",
      "\n",
      "8 of kfold 15 \n",
      "accuracy_score 1.0\n",
      "\n",
      "9 of kfold 15 \n",
      "accuracy_score 1.0\n",
      "\n",
      "10 of kfold 15 \n",
      "accuracy_score 1.0\n",
      "\n",
      "11 of kfold 15 \n",
      "accuracy_score 1.0\n",
      "\n",
      "12 of kfold 15 \n",
      "accuracy_score 1.0\n",
      "\n",
      "13 of kfold 15 \n",
      "accuracy_score 1.0\n",
      "\n",
      "14 of kfold 15 \n",
      "accuracy_score 1.0\n",
      "\n",
      "15 of kfold 15 \n",
      "accuracy_score 1.0\n",
      "\n",
      " Mean Validation Accuracy 1.0\n"
     ]
    }
   ],
   "source": [
    "from sklearn import tree\n",
    "i=1\n",
    "mean = 0\n",
    "kf = StratifiedKFold(n_splits=15,random_state=1,shuffle=True)\n",
    "for train_index,test_index in kf.split(X,y):\n",
    "    print ('\\n{} of kfold {} '.format(i,kf.n_splits))\n",
    "    xtr,xvl = X.loc[train_index],X.loc[test_index]\n",
    "    ytr,yvl = y[train_index],y[test_index]\n",
    "    model = tree.DecisionTreeClassifier(random_state=1)\n",
    "    model.fit(xtr,ytr)\n",
    "    pred_test=model.predict(xvl)\n",
    "    score=accuracy_score(yvl,pred_test)\n",
    "    mean += score\n",
    "    print ('accuracy_score',score)\n",
    "    i+=1\n",
    "    pred_test = model.predict(X_test)\n",
    "    pred = model.predict_proba(xvl)[:,1]\n",
    "print ('\\n Mean Validation Accuracy',mean/(i-1))"
   ]
  },
  {
   "cell_type": "code",
   "execution_count": 26,
   "metadata": {},
   "outputs": [
    {
     "name": "stdout",
     "output_type": "stream",
     "text": [
      "\n",
      "1 of kfold 15 \n",
      "accuracy_score 0.975609756097561\n",
      "\n",
      "2 of kfold 15 \n",
      "accuracy_score 1.0\n",
      "\n",
      "3 of kfold 15 \n",
      "accuracy_score 1.0\n",
      "\n",
      "4 of kfold 15 \n",
      "accuracy_score 1.0\n",
      "\n",
      "5 of kfold 15 \n",
      "accuracy_score 1.0\n",
      "\n",
      "6 of kfold 15 \n",
      "accuracy_score 1.0\n",
      "\n",
      "7 of kfold 15 \n",
      "accuracy_score 1.0\n",
      "\n",
      "8 of kfold 15 \n",
      "accuracy_score 1.0\n",
      "\n",
      "9 of kfold 15 \n",
      "accuracy_score 1.0\n",
      "\n",
      "10 of kfold 15 \n",
      "accuracy_score 1.0\n",
      "\n",
      "11 of kfold 15 \n",
      "accuracy_score 1.0\n",
      "\n",
      "12 of kfold 15 \n",
      "accuracy_score 1.0\n",
      "\n",
      "13 of kfold 15 \n",
      "accuracy_score 1.0\n",
      "\n",
      "14 of kfold 15 \n",
      "accuracy_score 0.975609756097561\n",
      "\n",
      "15 of kfold 15 \n",
      "accuracy_score 1.0\n",
      "\n",
      " Mean Validation Accuracy 0.9967479674796749\n"
     ]
    }
   ],
   "source": [
    "from sklearn.ensemble import RandomForestClassifier\n",
    "i=1\n",
    "mean = 0\n",
    "kf = StratifiedKFold(n_splits=15,random_state=1,shuffle=True)\n",
    "for train_index,test_index in kf.split(X,y):\n",
    " print ('\\n{} of kfold {} '.format(i,kf.n_splits))\n",
    " xtr,xvl = X.loc[train_index],X.loc[test_index]\n",
    " ytr,yvl = y[train_index],y[test_index]\n",
    " model = RandomForestClassifier(random_state=1, max_depth=10)\n",
    " model.fit(xtr,ytr)\n",
    " pred_test=model.predict(xvl)\n",
    " score=accuracy_score(yvl,pred_test)\n",
    " mean += score\n",
    " print ('accuracy_score',score)\n",
    " i+=1\n",
    " pred_test = model.predict(X_test)\n",
    " pred = model.predict_proba(xvl)[:,1]\n",
    "print ('\\n Mean Validation Accuracy',mean/(i-1))"
   ]
  },
  {
   "cell_type": "code",
   "execution_count": 27,
   "metadata": {},
   "outputs": [
    {
     "name": "stdout",
     "output_type": "stream",
     "text": [
      "\n",
      "1 of kfold 15\n"
     ]
    },
    {
     "name": "stderr",
     "output_type": "stream",
     "text": [
      "C:\\Users\\user\\anaconda3\\lib\\site-packages\\xgboost\\sklearn.py:1146: UserWarning: The use of label encoder in XGBClassifier is deprecated and will be removed in a future release. To remove this warning, do the following: 1) Pass option use_label_encoder=False when constructing XGBClassifier object; and 2) Encode your labels (y) as integers starting with 0, i.e. 0, 1, 2, ..., [num_class - 1].\n",
      "  warnings.warn(label_encoder_deprecation_msg, UserWarning)\n"
     ]
    },
    {
     "name": "stdout",
     "output_type": "stream",
     "text": [
      "[17:55:24] WARNING: C:/Users/Administrator/workspace/xgboost-win64_release_1.4.0/src/learner.cc:1095: Starting in XGBoost 1.3.0, the default evaluation metric used with the objective 'binary:logistic' was changed from 'error' to 'logloss'. Explicitly set eval_metric if you'd like to restore the old behavior.\n",
      "accuracy_score 1.0\n",
      "\n",
      "2 of kfold 15\n",
      "[17:55:26] WARNING: C:/Users/Administrator/workspace/xgboost-win64_release_1.4.0/src/learner.cc:1095: Starting in XGBoost 1.3.0, the default evaluation metric used with the objective 'binary:logistic' was changed from 'error' to 'logloss'. Explicitly set eval_metric if you'd like to restore the old behavior.\n",
      "accuracy_score 1.0\n",
      "\n",
      "3 of kfold 15\n",
      "[17:55:27] WARNING: C:/Users/Administrator/workspace/xgboost-win64_release_1.4.0/src/learner.cc:1095: Starting in XGBoost 1.3.0, the default evaluation metric used with the objective 'binary:logistic' was changed from 'error' to 'logloss'. Explicitly set eval_metric if you'd like to restore the old behavior.\n",
      "accuracy_score 1.0\n",
      "\n",
      "4 of kfold 15\n",
      "[17:55:29] WARNING: C:/Users/Administrator/workspace/xgboost-win64_release_1.4.0/src/learner.cc:1095: Starting in XGBoost 1.3.0, the default evaluation metric used with the objective 'binary:logistic' was changed from 'error' to 'logloss'. Explicitly set eval_metric if you'd like to restore the old behavior.\n",
      "accuracy_score 1.0\n",
      "\n",
      "5 of kfold 15\n",
      "[17:55:31] WARNING: C:/Users/Administrator/workspace/xgboost-win64_release_1.4.0/src/learner.cc:1095: Starting in XGBoost 1.3.0, the default evaluation metric used with the objective 'binary:logistic' was changed from 'error' to 'logloss'. Explicitly set eval_metric if you'd like to restore the old behavior.\n",
      "accuracy_score 1.0\n",
      "\n",
      "6 of kfold 15\n",
      "[17:55:32] WARNING: C:/Users/Administrator/workspace/xgboost-win64_release_1.4.0/src/learner.cc:1095: Starting in XGBoost 1.3.0, the default evaluation metric used with the objective 'binary:logistic' was changed from 'error' to 'logloss'. Explicitly set eval_metric if you'd like to restore the old behavior.\n",
      "accuracy_score 1.0\n",
      "\n",
      "7 of kfold 15\n",
      "[17:55:34] WARNING: C:/Users/Administrator/workspace/xgboost-win64_release_1.4.0/src/learner.cc:1095: Starting in XGBoost 1.3.0, the default evaluation metric used with the objective 'binary:logistic' was changed from 'error' to 'logloss'. Explicitly set eval_metric if you'd like to restore the old behavior.\n",
      "accuracy_score 1.0\n",
      "\n",
      "8 of kfold 15\n",
      "[17:55:36] WARNING: C:/Users/Administrator/workspace/xgboost-win64_release_1.4.0/src/learner.cc:1095: Starting in XGBoost 1.3.0, the default evaluation metric used with the objective 'binary:logistic' was changed from 'error' to 'logloss'. Explicitly set eval_metric if you'd like to restore the old behavior.\n",
      "accuracy_score 1.0\n",
      "\n",
      "9 of kfold 15\n",
      "[17:55:38] WARNING: C:/Users/Administrator/workspace/xgboost-win64_release_1.4.0/src/learner.cc:1095: Starting in XGBoost 1.3.0, the default evaluation metric used with the objective 'binary:logistic' was changed from 'error' to 'logloss'. Explicitly set eval_metric if you'd like to restore the old behavior.\n",
      "accuracy_score 1.0\n",
      "\n",
      "10 of kfold 15\n",
      "[17:55:39] WARNING: C:/Users/Administrator/workspace/xgboost-win64_release_1.4.0/src/learner.cc:1095: Starting in XGBoost 1.3.0, the default evaluation metric used with the objective 'binary:logistic' was changed from 'error' to 'logloss'. Explicitly set eval_metric if you'd like to restore the old behavior.\n",
      "accuracy_score 1.0\n",
      "\n",
      "11 of kfold 15\n",
      "[17:55:41] WARNING: C:/Users/Administrator/workspace/xgboost-win64_release_1.4.0/src/learner.cc:1095: Starting in XGBoost 1.3.0, the default evaluation metric used with the objective 'binary:logistic' was changed from 'error' to 'logloss'. Explicitly set eval_metric if you'd like to restore the old behavior.\n",
      "accuracy_score 1.0\n",
      "\n",
      "12 of kfold 15\n",
      "[17:55:43] WARNING: C:/Users/Administrator/workspace/xgboost-win64_release_1.4.0/src/learner.cc:1095: Starting in XGBoost 1.3.0, the default evaluation metric used with the objective 'binary:logistic' was changed from 'error' to 'logloss'. Explicitly set eval_metric if you'd like to restore the old behavior.\n",
      "accuracy_score 1.0\n",
      "\n",
      "13 of kfold 15\n",
      "[17:55:45] WARNING: C:/Users/Administrator/workspace/xgboost-win64_release_1.4.0/src/learner.cc:1095: Starting in XGBoost 1.3.0, the default evaluation metric used with the objective 'binary:logistic' was changed from 'error' to 'logloss'. Explicitly set eval_metric if you'd like to restore the old behavior.\n",
      "accuracy_score 1.0\n",
      "\n",
      "14 of kfold 15\n",
      "[17:55:46] WARNING: C:/Users/Administrator/workspace/xgboost-win64_release_1.4.0/src/learner.cc:1095: Starting in XGBoost 1.3.0, the default evaluation metric used with the objective 'binary:logistic' was changed from 'error' to 'logloss'. Explicitly set eval_metric if you'd like to restore the old behavior.\n",
      "accuracy_score 1.0\n",
      "\n",
      "15 of kfold 15\n",
      "[17:55:48] WARNING: C:/Users/Administrator/workspace/xgboost-win64_release_1.4.0/src/learner.cc:1095: Starting in XGBoost 1.3.0, the default evaluation metric used with the objective 'binary:logistic' was changed from 'error' to 'logloss'. Explicitly set eval_metric if you'd like to restore the old behavior.\n",
      "accuracy_score 1.0\n",
      "\n",
      " Mean Validation Accuracy 1.0\n"
     ]
    }
   ],
   "source": [
    "from xgboost import XGBClassifier\n",
    "i=1 \n",
    "mean = 0\n",
    "kf = StratifiedKFold(n_splits=15,random_state=1,shuffle=True) \n",
    "for train_index,test_index in kf.split(X,y): \n",
    " print('\\n{} of kfold {}'.format(i,kf.n_splits)) \n",
    " xtr,xvl = X.loc[train_index],X.loc[test_index] \n",
    " ytr,yvl = y[train_index],y[test_index] \n",
    " model = XGBClassifier(n_estimators=50, max_depth=4)\n",
    " model.fit(xtr, ytr) \n",
    " pred_test = model.predict(xvl) \n",
    " score = accuracy_score(yvl,pred_test) \n",
    " mean += score\n",
    " print ('accuracy_score',score)\n",
    " i+=1\n",
    " pred_test = model.predict(X_test)\n",
    " pred = model.predict_proba(xvl)[:,1]\n",
    "print ('\\n Mean Validation Accuracy',mean/(i-1))"
   ]
  },
  {
   "cell_type": "code",
   "execution_count": 28,
   "metadata": {},
   "outputs": [
    {
     "name": "stdout",
     "output_type": "stream",
     "text": [
      "0.7135135135135136\n"
     ]
    }
   ],
   "source": [
    "from sklearn.neighbors import KNeighborsClassifier\n",
    "knn = KNeighborsClassifier(n_neighbors=31)\n",
    "knn.fit(X_train,y_train)\n",
    "pred = knn.predict(X_test)\n",
    "from sklearn.metrics import classification_report,confusion_matrix\n",
    "print(accuracy_score(y_test,pred))"
   ]
  },
  {
   "cell_type": "code",
   "execution_count": 29,
   "metadata": {},
   "outputs": [
    {
     "name": "stdout",
     "output_type": "stream",
     "text": [
      "\n",
      "\n",
      "SVM - Stratified k-folds cross Validation\n",
      "\n",
      "Iteration 1 of kfold 10\n",
      "accuracy_score 0.6935483870967742\n",
      "\n",
      "Iteration 2 of kfold 10\n",
      "accuracy_score 0.6935483870967742\n",
      "\n",
      "Iteration 3 of kfold 10\n",
      "accuracy_score 0.6774193548387096\n",
      "\n",
      "Iteration 4 of kfold 10\n",
      "accuracy_score 0.6774193548387096\n",
      "\n",
      "Iteration 5 of kfold 10\n",
      "accuracy_score 0.6885245901639344\n",
      "\n",
      "Iteration 6 of kfold 10\n",
      "accuracy_score 0.6885245901639344\n",
      "\n",
      "Iteration 7 of kfold 10\n",
      "accuracy_score 0.6885245901639344\n",
      "\n",
      "Iteration 8 of kfold 10\n",
      "accuracy_score 0.6885245901639344\n",
      "\n",
      "Iteration 9 of kfold 10\n",
      "accuracy_score 0.6885245901639344\n",
      "\n",
      "Iteration 10 of kfold 10\n",
      "accuracy_score 0.6885245901639344\n",
      "\n",
      "Mean validation accuracy for SVM - Stratified k-folds cross Validation\n",
      "SVM   0.6873083024854576\n"
     ]
    }
   ],
   "source": [
    "from sklearn import svm\n",
    "from sklearn.svm import SVC\n",
    "model = SVC(kernel='rbf')#rbf or linear\n",
    "model.fit(X_train, y_train)\n",
    "pred_cv = model.predict(X_test)\n",
    "print(\"\\n\\nSVM - Stratified k-folds cross Validation\")\n",
    "tot_acc = 0\n",
    "i=1\n",
    "kf = StratifiedKFold(n_splits=10,random_state=1,shuffle=True) \n",
    "for train_indices,test_indices in kf.split(X,y):\n",
    "    print('\\nIteration {} of kfold {}'.format(i,kf.n_splits))\n",
    "    xtr,xvl = X.loc[train_indices],X.loc[test_indices]     \n",
    "    ytr,yvl = y[train_indices],y[test_indices]         \n",
    "    model = SVC(random_state=1)\n",
    "    model.fit(xtr, ytr)\n",
    "    pred_test = model.predict(xvl)\n",
    "    score = accuracy_score(yvl,pred_test)\n",
    "    print('accuracy_score',score)     \n",
    "    i+=1\n",
    "    tot_acc = tot_acc + score\n",
    "SVM_mean_acc = tot_acc/10\n",
    "print(\"\\nMean validation accuracy for SVM - Stratified k-folds cross Validation\")\n",
    "print(\"SVM   \" +str(SVM_mean_acc))"
   ]
  },
  {
   "cell_type": "code",
   "execution_count": 30,
   "metadata": {},
   "outputs": [
    {
     "data": {
      "image/png": "[encoded data removed]",
      "text/plain": [
       "<Figure size 720x576 with 1 Axes>"
      ]
     },
     "metadata": {
      "needs_background": "light"
     },
     "output_type": "display_data"
    }
   ],
   "source": [
    "import matplotlib.pyplot as plt\n",
    "\n",
    "data = {'LogReg': 67.02, 'LogReg\\nusing K-fold': 68.73,'Decision Tree':100, 'RandomForest':99.67, 'XGBClassifier':100, 'KNeighbors':67.02, 'SVM':68.73}\n",
    "names = list(data.keys())\n",
    "values = list(data.values())\n",
    "fig=plt.figure(figsize=(10,8))\n",
    "plt.bar(names,values,color='blue',width=0.75)\n",
    "plt.xlabel('\\nAlgorithms')\n",
    "plt.ylabel('Accuracy')\n",
    "plt.show()"
   ]
  },
  {
   "cell_type": "code",
   "execution_count": null,
   "metadata": {},
   "outputs": [],
   "source": []
  }
 ],
 "metadata": {
  "kernelspec": {
   "display_name": "Python 3",
   "language": "python",
   "name": "python3"
  },
  "language_info": {
   "codemirror_mode": {
    "name": "ipython",
    "version": 3
   },
   "file_extension": ".py",
   "mimetype": "text/x-python",
   "name": "python",
   "nbconvert_exporter": "python",
   "pygments_lexer": "ipython3",
   "version": "3.7.6"
  }
 },
 "nbformat": 4,
 "nbformat_minor": 4
}
